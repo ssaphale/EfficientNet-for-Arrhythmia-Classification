{
  "nbformat": 4,
  "nbformat_minor": 0,
  "metadata": {
    "colab": {
      "provenance": [],
      "gpuType": "V28"
    },
    "kernelspec": {
      "name": "python3",
      "display_name": "Python 3"
    },
    "language_info": {
      "name": "python"
    },
    "accelerator": "TPU"
  },
  "cells": [
    {
      "cell_type": "code",
      "execution_count": null,
      "metadata": {
        "colab": {
          "base_uri": "https://localhost:8080/"
        },
        "id": "u3aDcEPcJrM_",
        "outputId": "9d5bdf35-bc3a-4f99-d23a-b9ec7aaa3ee0"
      },
      "outputs": [
        {
          "output_type": "stream",
          "name": "stdout",
          "text": [
            "Not connected to a GPU\n"
          ]
        }
      ],
      "source": [
        "gpu_info = !nvidia-smi\n",
        "gpu_info = '\\n'.join(gpu_info)\n",
        "if gpu_info.find('failed') >= 0:\n",
        "  print('Not connected to a GPU')\n",
        "else:\n",
        "  print(gpu_info)"
      ]
    },
    {
      "cell_type": "code",
      "source": [
        "from psutil import virtual_memory\n",
        "ram_gb = virtual_memory().total / 1e9\n",
        "print('Your runtime has {:.1f} gigabytes of available RAM\\n'.format(ram_gb))\n",
        "\n",
        "if ram_gb < 20:\n",
        "  print('Not using a high-RAM runtime')\n",
        "else:\n",
        "  print('You are using a high-RAM runtime!')"
      ],
      "metadata": {
        "colab": {
          "base_uri": "https://localhost:8080/"
        },
        "id": "WHh9tQYhKL8u",
        "outputId": "7ca788ce-32aa-48f4-b8f0-8ed9d1c46ea7"
      },
      "execution_count": null,
      "outputs": [
        {
          "output_type": "stream",
          "name": "stdout",
          "text": [
            "Your runtime has 37.8 gigabytes of available RAM\n",
            "\n",
            "You are using a high-RAM runtime!\n"
          ]
        }
      ]
    },
    {
      "cell_type": "code",
      "source": [
        "#!unzip \"/content/drive/MyDrive/untitled folder 3.zip\""
      ],
      "metadata": {
        "id": "qOPfwJaPKL_z"
      },
      "execution_count": null,
      "outputs": []
    },
    {
      "cell_type": "code",
      "source": [
        "#!pip install split-folders"
      ],
      "metadata": {
        "id": "ozR6v9Ap4_i5"
      },
      "execution_count": null,
      "outputs": []
    },
    {
      "cell_type": "code",
      "source": [
        "#import splitfolders\n",
        "#splitfolders.ratio('/content/untitled folder', output=\"/content/drive/MyDrive/output\", seed=1337, ratio=(.8, 0.1,0.1))\n"
      ],
      "metadata": {
        "id": "i3LmiWem5CTt"
      },
      "execution_count": null,
      "outputs": []
    },
    {
      "cell_type": "code",
      "source": [
        "import tensorflow as tf\t\t# TensorFlow object reference\n",
        "from tensorflow import keras\t# Keras is a high level API used in TensorFlow that allows us to more easily create neural networks by writing \"less code\". Keras does most of the heavy lifting for us when creating models. Since we won't be defining our own Tensors and diving deep into the neural network code, Keras allows us to create a simple network quickly.\n",
        "import numpy as np\t\t# A numerical function library for Python\n",
        "import matplotlib.pyplot as plt\t\t# matplotlib will allow us to graph data we're using\n",
        "import time\n",
        "import pandas as pd\n",
        "import numpy as np\n",
        "import os\n",
        "from glob import glob\n",
        "import random\n",
        "import seaborn as sns\n",
        "pd.set_option('display.max_colwidth', None)"
      ],
      "metadata": {
        "id": "3C5kbd6BKMCb"
      },
      "execution_count": null,
      "outputs": []
    },
    {
      "cell_type": "code",
      "source": [
        "class_names = ['Normal','Left', 'Right','Atrial','Ventricular',\n",
        "               'Supra Ventricular','Paced Beat','FUPBN','FUVN','IQRS','Vfl','Nodal']"
      ],
      "metadata": {
        "id": "GuX7WnGALigB"
      },
      "execution_count": null,
      "outputs": []
    },
    {
      "cell_type": "code",
      "source": [
        "from tensorflow.keras.preprocessing.image import ImageDataGenerator\n",
        "from tensorflow import keras"
      ],
      "metadata": {
        "id": "CK-J3P0dKXtj"
      },
      "execution_count": null,
      "outputs": []
    },
    {
      "cell_type": "code",
      "source": [
        "train_dir = \"/content/drive/MyDrive/output/train\"\n",
        "test_dir = \"/content/drive/MyDrive/output/test\"\n",
        "val_dir = \"/content/drive/MyDrive/output/val\""
      ],
      "metadata": {
        "id": "xrU1YfczKgb5"
      },
      "execution_count": null,
      "outputs": []
    },
    {
      "cell_type": "code",
      "source": [
        "import tensorflow as tf\n",
        "import tensorflow_hub as hub\n",
        "from tensorflow.keras import layers\n"
      ],
      "metadata": {
        "id": "pNmk7VWvKghr"
      },
      "execution_count": null,
      "outputs": []
    },
    {
      "cell_type": "code",
      "source": [
        "keras.backend.clear_session()"
      ],
      "metadata": {
        "id": "lxgn6EK-KgkP"
      },
      "execution_count": null,
      "outputs": []
    },
    {
      "cell_type": "code",
      "source": [
        "import tensorflow as tf\n",
        "IMG_SIZE = (224, 224)\n",
        "train_data = tf.keras.preprocessing.image_dataset_from_directory(train_dir,batch_size=32,\n",
        "                                                                            label_mode=\"categorical\",\n",
        "                                                                            image_size=IMG_SIZE)\n",
        "# Note: the test data is the same as the previous experiment, we could\n",
        "# skip creating this, but we'll leave this here to practice.\n",
        "test_data = tf.keras.preprocessing.image_dataset_from_directory(test_dir,\n",
        "                                                                label_mode=\"categorical\",\n",
        "                                                                image_size=IMG_SIZE,\n",
        "                                                                shuffle=False)\n",
        "\n",
        "val_data = tf.keras.preprocessing.image_dataset_from_directory(val_dir,\n",
        "                                                                label_mode=\"categorical\",\n",
        "                                                                image_size=IMG_SIZE\n",
        "                                                                )\n"
      ],
      "metadata": {
        "colab": {
          "base_uri": "https://localhost:8080/"
        },
        "id": "o20PJEtm0k42",
        "outputId": "bfc1c6d3-9225-430a-86b5-db2d77a0f285"
      },
      "execution_count": null,
      "outputs": [
        {
          "output_type": "stream",
          "name": "stdout",
          "text": [
            "Found 15372 files belonging to 12 classes.\n",
            "Found 1927 files belonging to 12 classes.\n",
            "Found 1919 files belonging to 12 classes.\n"
          ]
        }
      ]
    },
    {
      "cell_type": "code",
      "source": [
        "# Setup the input shape to our model\n",
        "input_shape = (224, 224, 3)\n",
        "\n",
        "# Create a frozen base model\n",
        "base_model = tf.keras.applications.EfficientNetB0(include_top=False)\n",
        "base_model.trainable = False\n"
      ],
      "metadata": {
        "id": "y0fAbIrTOWIQ"
      },
      "execution_count": null,
      "outputs": []
    },
    {
      "cell_type": "code",
      "source": [
        "# Create input and output layers\n",
        "inputs = layers.Input(shape=input_shape, name=\"input_layer\") # create input layer\n",
        "#x = data_augmentation(inputs) # augment our training images\n",
        "x = base_model(inputs, training=False) # pass augmented images to base model but keep it in inference mode, so batchnorm layers don't get updated: https://keras.io/guides/transfer_learning/#build-a-model\n",
        "x = layers.GlobalAveragePooling2D(name=\"global_average_pooling_layer\")(x)\n",
        "outputs = layers.Dense(12, activation=\"softmax\", name=\"output_layer\")(x)\n",
        "model_2 = tf.keras.Model(inputs, outputs)\n"
      ],
      "metadata": {
        "id": "w33BekouOWLH"
      },
      "execution_count": null,
      "outputs": []
    },
    {
      "cell_type": "code",
      "source": [
        "model_2.compile(loss=\"categorical_crossentropy\",\n",
        "              optimizer=tf.keras.optimizers.Adam(lr=0.001), # use Adam optimizer with base learning rate\n",
        "              metrics=[\"accuracy\"])\n"
      ],
      "metadata": {
        "colab": {
          "base_uri": "https://localhost:8080/"
        },
        "id": "L7KLodHCOWOP",
        "outputId": "2d01ffac-79b3-4bff-dff2-b702561ed4dc"
      },
      "execution_count": null,
      "outputs": [
        {
          "output_type": "stream",
          "name": "stderr",
          "text": [
            "/usr/local/lib/python3.7/dist-packages/keras/optimizer_v2/adam.py:105: UserWarning: The `lr` argument is deprecated, use `learning_rate` instead.\n",
            "  super(Adam, self).__init__(name, **kwargs)\n"
          ]
        }
      ]
    },
    {
      "cell_type": "code",
      "source": [
        "!pip install model_profiler\n",
        "from model_profiler import model_profiler\n",
        "\n",
        "Batch_size = 32\n",
        "profile = model_profiler(base_model, Batch_size)\n",
        "\n",
        "print(profile)\n"
      ],
      "metadata": {
        "id": "BL8fjLC68hwM",
        "colab": {
          "base_uri": "https://localhost:8080/"
        },
        "outputId": "85641f03-169c-4753-fc35-05cac9641959"
      },
      "execution_count": null,
      "outputs": [
        {
          "output_type": "stream",
          "name": "stdout",
          "text": [
            "Requirement already satisfied: model_profiler in /usr/local/lib/python3.7/dist-packages (1.1.8)\n",
            "Requirement already satisfied: numpy in /usr/local/lib/python3.7/dist-packages (from model_profiler) (1.21.6)\n",
            "Requirement already satisfied: tabulate in /usr/local/lib/python3.7/dist-packages (from model_profiler) (0.8.9)\n",
            "| Model Profile                    | Value         | Unit    |\n",
            "|----------------------------------|---------------|---------|\n",
            "| Selected GPUs                    | None Detected | GPU IDs |\n",
            "| No. of FLOPs                     | 3.1715        | BFLOPs  |\n",
            "| GPU Memory Requirement           | 0.0158        | GB      |\n",
            "| Model Parameters                 | 4.0496        | Million |\n",
            "| Memory Required by Model Weights | 15.4479       | MB      |\n"
          ]
        }
      ]
    },
    {
      "cell_type": "code",
      "source": [
        "# Fit the model saving checkpoints every epoch\n",
        "initial_epochs = 30\n",
        "Fine_tuning_entire_dataset = model_2.fit(train_data,\n",
        "                                          epochs=initial_epochs,\n",
        "                                          validation_data=val_data,\n",
        "                                          validation_steps=int(0.25 * len(val_data)), # do less steps per validation (quicker)\n",
        "                                          )\n"
      ],
      "metadata": {
        "colab": {
          "base_uri": "https://localhost:8080/"
        },
        "id": "GgWZXrfhzqdn",
        "outputId": "a6cb5467-e595-4b44-f490-42d934481c70"
      },
      "execution_count": null,
      "outputs": [
        {
          "output_type": "stream",
          "name": "stdout",
          "text": [
            "Epoch 1/30\n",
            "481/481 [==============================] - 151s 301ms/step - loss: 1.2513 - accuracy: 0.6745 - val_loss: 0.8434 - val_accuracy: 0.7667\n",
            "Epoch 2/30\n",
            "481/481 [==============================] - 139s 289ms/step - loss: 0.7075 - accuracy: 0.8055 - val_loss: 0.6550 - val_accuracy: 0.7833\n",
            "Epoch 3/30\n",
            "481/481 [==============================] - 141s 292ms/step - loss: 0.5680 - accuracy: 0.8336 - val_loss: 0.5568 - val_accuracy: 0.8375\n",
            "Epoch 4/30\n",
            "481/481 [==============================] - 147s 306ms/step - loss: 0.4919 - accuracy: 0.8549 - val_loss: 0.4760 - val_accuracy: 0.8583\n",
            "Epoch 5/30\n",
            "481/481 [==============================] - 142s 294ms/step - loss: 0.4393 - accuracy: 0.8707 - val_loss: 0.4520 - val_accuracy: 0.8562\n",
            "Epoch 6/30\n",
            "481/481 [==============================] - 141s 292ms/step - loss: 0.4017 - accuracy: 0.8808 - val_loss: 0.4826 - val_accuracy: 0.8375\n",
            "Epoch 7/30\n",
            "481/481 [==============================] - 137s 285ms/step - loss: 0.3707 - accuracy: 0.8918 - val_loss: 0.4242 - val_accuracy: 0.8604\n",
            "Epoch 8/30\n",
            "481/481 [==============================] - 149s 310ms/step - loss: 0.3474 - accuracy: 0.8988 - val_loss: 0.3792 - val_accuracy: 0.8917\n",
            "Epoch 9/30\n",
            "481/481 [==============================] - 136s 282ms/step - loss: 0.3266 - accuracy: 0.9048 - val_loss: 0.3375 - val_accuracy: 0.8917\n",
            "Epoch 10/30\n",
            "481/481 [==============================] - 137s 284ms/step - loss: 0.3093 - accuracy: 0.9105 - val_loss: 0.3574 - val_accuracy: 0.8958\n",
            "Epoch 11/30\n",
            "481/481 [==============================] - 151s 315ms/step - loss: 0.2932 - accuracy: 0.9167 - val_loss: 0.3523 - val_accuracy: 0.8958\n",
            "Epoch 12/30\n",
            "481/481 [==============================] - 134s 279ms/step - loss: 0.2815 - accuracy: 0.9199 - val_loss: 0.3430 - val_accuracy: 0.8917\n",
            "Epoch 13/30\n",
            "481/481 [==============================] - 137s 284ms/step - loss: 0.2672 - accuracy: 0.9253 - val_loss: 0.3281 - val_accuracy: 0.9042\n",
            "Epoch 14/30\n",
            "481/481 [==============================] - 136s 282ms/step - loss: 0.2562 - accuracy: 0.9302 - val_loss: 0.3138 - val_accuracy: 0.9167\n",
            "Epoch 15/30\n",
            "481/481 [==============================] - 137s 284ms/step - loss: 0.2472 - accuracy: 0.9321 - val_loss: 0.3321 - val_accuracy: 0.9083\n",
            "Epoch 16/30\n",
            "481/481 [==============================] - 134s 278ms/step - loss: 0.2387 - accuracy: 0.9338 - val_loss: 0.2660 - val_accuracy: 0.9146\n",
            "Epoch 17/30\n",
            "481/481 [==============================] - 135s 281ms/step - loss: 0.2297 - accuracy: 0.9377 - val_loss: 0.3037 - val_accuracy: 0.9062\n",
            "Epoch 18/30\n",
            "481/481 [==============================] - 135s 281ms/step - loss: 0.2264 - accuracy: 0.9366 - val_loss: 0.2837 - val_accuracy: 0.9229\n",
            "Epoch 19/30\n",
            "481/481 [==============================] - 136s 282ms/step - loss: 0.2169 - accuracy: 0.9406 - val_loss: 0.2941 - val_accuracy: 0.9167\n",
            "Epoch 20/30\n",
            "481/481 [==============================] - 136s 283ms/step - loss: 0.2122 - accuracy: 0.9435 - val_loss: 0.2655 - val_accuracy: 0.9208\n",
            "Epoch 21/30\n",
            "481/481 [==============================] - 135s 281ms/step - loss: 0.2053 - accuracy: 0.9452 - val_loss: 0.2814 - val_accuracy: 0.9146\n",
            "Epoch 22/30\n",
            "481/481 [==============================] - 136s 283ms/step - loss: 0.2009 - accuracy: 0.9459 - val_loss: 0.2442 - val_accuracy: 0.9271\n",
            "Epoch 23/30\n",
            "481/481 [==============================] - 134s 278ms/step - loss: 0.1938 - accuracy: 0.9480 - val_loss: 0.2779 - val_accuracy: 0.9187\n",
            "Epoch 24/30\n",
            "481/481 [==============================] - 137s 284ms/step - loss: 0.1895 - accuracy: 0.9494 - val_loss: 0.2537 - val_accuracy: 0.9292\n",
            "Epoch 25/30\n",
            "481/481 [==============================] - 134s 279ms/step - loss: 0.1862 - accuracy: 0.9493 - val_loss: 0.2338 - val_accuracy: 0.9125\n",
            "Epoch 26/30\n",
            "481/481 [==============================] - 132s 275ms/step - loss: 0.1808 - accuracy: 0.9522 - val_loss: 0.2419 - val_accuracy: 0.9062\n",
            "Epoch 27/30\n",
            "481/481 [==============================] - 132s 275ms/step - loss: 0.1790 - accuracy: 0.9530 - val_loss: 0.2884 - val_accuracy: 0.9104\n",
            "Epoch 28/30\n",
            "481/481 [==============================] - 133s 276ms/step - loss: 0.1742 - accuracy: 0.9534 - val_loss: 0.2311 - val_accuracy: 0.9125\n",
            "Epoch 29/30\n",
            "481/481 [==============================] - 134s 279ms/step - loss: 0.1704 - accuracy: 0.9553 - val_loss: 0.2498 - val_accuracy: 0.9250\n",
            "Epoch 30/30\n",
            "481/481 [==============================] - 135s 281ms/step - loss: 0.1668 - accuracy: 0.9551 - val_loss: 0.2105 - val_accuracy: 0.9312\n"
          ]
        }
      ]
    },
    {
      "cell_type": "code",
      "source": [
        "test_results = model_2.evaluate(test_data)\n",
        "test_results"
      ],
      "metadata": {
        "id": "Bk1yvHq4CfIr",
        "colab": {
          "base_uri": "https://localhost:8080/"
        },
        "outputId": "e183b656-0e50-4e34-fd3b-d7e23468bf29"
      },
      "execution_count": null,
      "outputs": [
        {
          "output_type": "stream",
          "name": "stdout",
          "text": [
            "61/61 [==============================] - 16s 261ms/step - loss: 0.1879 - accuracy: 0.9382\n"
          ]
        },
        {
          "output_type": "execute_result",
          "data": {
            "text/plain": [
              "[0.18793019652366638, 0.938245952129364]"
            ]
          },
          "metadata": {},
          "execution_count": 19
        }
      ]
    },
    {
      "cell_type": "code",
      "source": [
        "y_labels = []\n",
        "for images, labels in test_data.unbatch(): # unbatch the test data and get images and labels\n",
        "  y_labels.append(labels.numpy().argmax()) # append the index which has the largest value (labels are one-hot)\n",
        "y_labels[:10] # check what they look like (unshuffled)"
      ],
      "metadata": {
        "id": "aZ-jvggs2CmM",
        "colab": {
          "base_uri": "https://localhost:8080/"
        },
        "outputId": "31944233-1c6f-41d9-9169-b759b9f8e5a0"
      },
      "execution_count": null,
      "outputs": [
        {
          "output_type": "execute_result",
          "data": {
            "text/plain": [
              "[0, 0, 0, 0, 0, 0, 0, 0, 0, 0]"
            ]
          },
          "metadata": {},
          "execution_count": 20
        }
      ]
    },
    {
      "cell_type": "code",
      "source": [
        "import matplotlib.pyplot as plt\n",
        "#plotting the Accuracy of test and training sets\n",
        "plt.plot(Fine_tuning_entire_dataset.history['accuracy'])\n",
        "plt.plot(Fine_tuning_entire_dataset.history['val_accuracy'])\n",
        "plt.title('Model Accuracy')\n",
        "plt.ylabel('accuracy')\n",
        "plt.xlabel('epoch')\n",
        "plt.legend(['train', 'test'], loc='upper left')\n",
        "plt.show()"
      ],
      "metadata": {
        "id": "gFIBGLexBiQQ",
        "colab": {
          "base_uri": "https://localhost:8080/",
          "height": 295
        },
        "outputId": "71d86219-00f7-4653-b422-675b7fd7beeb"
      },
      "execution_count": null,
      "outputs": [
        {
          "output_type": "display_data",
          "data": {
            "text/plain": [
              "<Figure size 432x288 with 1 Axes>"
            ],
            "image/png": "[encoded data removed]"
          },
          "metadata": {
            "needs_background": "light"
          }
        }
      ]
    },
    {
      "cell_type": "code",
      "source": [
        "import matplotlib.pyplot as plt\n",
        "#plotting the Accuracy of test and training sets\n",
        "plt.plot(Fine_tuning_entire_dataset.history['loss'])\n",
        "plt.plot(Fine_tuning_entire_dataset.history['val_loss'])\n",
        "plt.title('Model Loss')\n",
        "plt.ylabel('Loss')\n",
        "plt.xlabel('epoch')\n",
        "plt.legend(['train', 'test'], loc='upper left')\n",
        "plt.show()"
      ],
      "metadata": {
        "id": "NxJm6Q9nBiTI",
        "colab": {
          "base_uri": "https://localhost:8080/",
          "height": 295
        },
        "outputId": "19fa8b66-ed41-428c-d0e8-6924dc334047"
      },
      "execution_count": null,
      "outputs": [
        {
          "output_type": "display_data",
          "data": {
            "text/plain": [
              "<Figure size 432x288 with 1 Axes>"
            ],
            "image/png": "[encoded data removed]"
          },
          "metadata": {
            "needs_background": "light"
          }
        }
      ]
    },
    {
      "cell_type": "code",
      "source": [
        "#@title Default title text\n",
        "y_pred = model_2.predict(test_data)\n",
        "y_pred = np.argmax(y_pred,axis=1)"
      ],
      "metadata": {
        "id": "nQrXQTsADBOc"
      },
      "execution_count": null,
      "outputs": []
    },
    {
      "cell_type": "code",
      "source": [
        "from sklearn.metrics import classification_report, confusion_matrix\n",
        "print(classification_report(y_labels,y_pred))"
      ],
      "metadata": {
        "colab": {
          "base_uri": "https://localhost:8080/"
        },
        "id": "eAGffERW0xSR",
        "outputId": "56cc4f96-13b6-4dae-815c-70b2110b0989"
      },
      "execution_count": null,
      "outputs": [
        {
          "output_type": "stream",
          "name": "stdout",
          "text": [
            "              precision    recall  f1-score   support\n",
            "\n",
            "           0       0.92      0.86      0.89       200\n",
            "           1       0.96      0.96      0.96       130\n",
            "           2       0.97      0.84      0.90       131\n",
            "           3       0.92      0.99      0.95       209\n",
            "           4       0.99      0.98      0.99       200\n",
            "           5       0.82      0.96      0.88        24\n",
            "           6       0.98      1.00      0.99       200\n",
            "           7       0.96      0.97      0.96       185\n",
            "           8       0.92      0.97      0.95       200\n",
            "           9       0.91      0.89      0.90       200\n",
            "          10       1.00      0.83      0.91        48\n",
            "          11       0.88      0.91      0.89       200\n",
            "\n",
            "    accuracy                           0.94      1927\n",
            "   macro avg       0.94      0.93      0.93      1927\n",
            "weighted avg       0.94      0.94      0.94      1927\n",
            "\n"
          ]
        }
      ]
    },
    {
      "cell_type": "code",
      "source": [
        "classes=[i for i in range(12)]\n",
        "con_mat_df = pd.DataFrame(confusion_matrix(y_labels,y_pred),\n",
        "                     index = classes,\n",
        "                     columns = classes)"
      ],
      "metadata": {
        "id": "VNEt1PV403oB"
      },
      "execution_count": null,
      "outputs": []
    },
    {
      "cell_type": "code",
      "source": [
        "import seaborn as sns\n",
        "figure = plt.figure(figsize=(10, 8))\n",
        "sns.heatmap(con_mat_df, annot=True,cmap=plt.cm.hot,fmt='d')\n",
        "plt.tight_layout()\n",
        "plt.ylabel('Actual')\n",
        "plt.xlabel('Predicted')\n",
        "plt.show()"
      ],
      "metadata": {
        "colab": {
          "base_uri": "https://localhost:8080/",
          "height": 557
        },
        "id": "kPudI5vo0-z6",
        "outputId": "faaee866-26c2-4154-c9ae-d7b0c60caa90"
      },
      "execution_count": null,
      "outputs": [
        {
          "output_type": "display_data",
          "data": {
            "text/plain": [
              "<Figure size 720x576 with 2 Axes>"
            ],
            "image/png": "[encoded data removed]"
          },
          "metadata": {
            "needs_background": "light"
          }
        }
      ]
    },
    {
      "cell_type": "code",
      "source": [
        "# Layers in loaded model\n",
        "model_2.layers"
      ],
      "metadata": {
        "id": "hX0JBqyaEKg0",
        "colab": {
          "base_uri": "https://localhost:8080/"
        },
        "outputId": "6bd5b0c6-c1f3-451e-fcb5-481235d9ffb8"
      },
      "execution_count": null,
      "outputs": [
        {
          "output_type": "execute_result",
          "data": {
            "text/plain": [
              "[<keras.engine.input_layer.InputLayer at 0x7f91c110e810>,\n",
              " <keras.engine.functional.Functional at 0x7f91c1147890>,\n",
              " <keras.layers.pooling.GlobalAveragePooling2D at 0x7f91c110e9d0>,\n",
              " <keras.layers.core.dense.Dense at 0x7f91c110f0d0>]"
            ]
          },
          "metadata": {},
          "execution_count": 27
        }
      ]
    },
    {
      "cell_type": "code",
      "source": [
        "for layer in model_2.layers:\n",
        "  print(layer.trainable)\n"
      ],
      "metadata": {
        "id": "lKc1uCymEKkZ",
        "colab": {
          "base_uri": "https://localhost:8080/"
        },
        "outputId": "8e80ea53-6f38-43e2-f2d5-db81a0e6fd8f"
      },
      "execution_count": null,
      "outputs": [
        {
          "output_type": "stream",
          "name": "stdout",
          "text": [
            "True\n",
            "False\n",
            "True\n",
            "True\n"
          ]
        }
      ]
    },
    {
      "cell_type": "code",
      "source": [
        "model_2.summary()"
      ],
      "metadata": {
        "id": "XX7ncuHOEKoC",
        "colab": {
          "base_uri": "https://localhost:8080/"
        },
        "outputId": "0631c924-3adb-4825-a20d-d4cbc57a25fa"
      },
      "execution_count": null,
      "outputs": [
        {
          "output_type": "stream",
          "name": "stdout",
          "text": [
            "Model: \"model\"\n",
            "_________________________________________________________________\n",
            " Layer (type)                Output Shape              Param #   \n",
            "=================================================================\n",
            " input_layer (InputLayer)    [(None, 224, 224, 3)]     0         \n",
            "                                                                 \n",
            " efficientnetb0 (Functional)  (None, None, None, 1280)  4049571  \n",
            "                                                                 \n",
            " global_average_pooling_laye  (None, 1280)             0         \n",
            " r (GlobalAveragePooling2D)                                      \n",
            "                                                                 \n",
            " output_layer (Dense)        (None, 12)                15372     \n",
            "                                                                 \n",
            "=================================================================\n",
            "Total params: 4,064,943\n",
            "Trainable params: 15,372\n",
            "Non-trainable params: 4,049,571\n",
            "_________________________________________________________________\n"
          ]
        }
      ]
    },
    {
      "cell_type": "code",
      "source": [
        "# How many layers are trainable in our base model?\n",
        "print(len(model_2.layers[1].trainable_variables)) # layer at index 2 is the EfficientNetB0 layer (the base model)"
      ],
      "metadata": {
        "id": "hsLBZ7yoEKq5",
        "colab": {
          "base_uri": "https://localhost:8080/"
        },
        "outputId": "e63dd2b6-282f-4f23-def8-ee75f1d47f5a"
      },
      "execution_count": null,
      "outputs": [
        {
          "output_type": "stream",
          "name": "stdout",
          "text": [
            "0\n"
          ]
        }
      ]
    },
    {
      "cell_type": "code",
      "source": [
        "print(len(base_model.trainable_variables))"
      ],
      "metadata": {
        "id": "xrishtU9E0zC",
        "colab": {
          "base_uri": "https://localhost:8080/"
        },
        "outputId": "ddf58f79-1d8e-498c-894a-12545bf2126a"
      },
      "execution_count": null,
      "outputs": [
        {
          "output_type": "stream",
          "name": "stdout",
          "text": [
            "0\n"
          ]
        }
      ]
    },
    {
      "cell_type": "code",
      "source": [
        "# Check which layers are tuneable (trainable)\n",
        "for layer_number, layer in enumerate(base_model.layers):\n",
        "  print(layer_number, layer.name, layer.trainable)"
      ],
      "metadata": {
        "id": "F__Gt30RE8n0",
        "colab": {
          "base_uri": "https://localhost:8080/"
        },
        "outputId": "e342f145-45e2-4510-ff59-d6f54cf92fbb"
      },
      "execution_count": null,
      "outputs": [
        {
          "output_type": "stream",
          "name": "stdout",
          "text": [
            "0 input_1 False\n",
            "1 rescaling False\n",
            "2 normalization False\n",
            "3 stem_conv_pad False\n",
            "4 stem_conv False\n",
            "5 stem_bn False\n",
            "6 stem_activation False\n",
            "7 block1a_dwconv False\n",
            "8 block1a_bn False\n",
            "9 block1a_activation False\n",
            "10 block1a_se_squeeze False\n",
            "11 block1a_se_reshape False\n",
            "12 block1a_se_reduce False\n",
            "13 block1a_se_expand False\n",
            "14 block1a_se_excite False\n",
            "15 block1a_project_conv False\n",
            "16 block1a_project_bn False\n",
            "17 block2a_expand_conv False\n",
            "18 block2a_expand_bn False\n",
            "19 block2a_expand_activation False\n",
            "20 block2a_dwconv_pad False\n",
            "21 block2a_dwconv False\n",
            "22 block2a_bn False\n",
            "23 block2a_activation False\n",
            "24 block2a_se_squeeze False\n",
            "25 block2a_se_reshape False\n",
            "26 block2a_se_reduce False\n",
            "27 block2a_se_expand False\n",
            "28 block2a_se_excite False\n",
            "29 block2a_project_conv False\n",
            "30 block2a_project_bn False\n",
            "31 block2b_expand_conv False\n",
            "32 block2b_expand_bn False\n",
            "33 block2b_expand_activation False\n",
            "34 block2b_dwconv False\n",
            "35 block2b_bn False\n",
            "36 block2b_activation False\n",
            "37 block2b_se_squeeze False\n",
            "38 block2b_se_reshape False\n",
            "39 block2b_se_reduce False\n",
            "40 block2b_se_expand False\n",
            "41 block2b_se_excite False\n",
            "42 block2b_project_conv False\n",
            "43 block2b_project_bn False\n",
            "44 block2b_drop False\n",
            "45 block2b_add False\n",
            "46 block3a_expand_conv False\n",
            "47 block3a_expand_bn False\n",
            "48 block3a_expand_activation False\n",
            "49 block3a_dwconv_pad False\n",
            "50 block3a_dwconv False\n",
            "51 block3a_bn False\n",
            "52 block3a_activation False\n",
            "53 block3a_se_squeeze False\n",
            "54 block3a_se_reshape False\n",
            "55 block3a_se_reduce False\n",
            "56 block3a_se_expand False\n",
            "57 block3a_se_excite False\n",
            "58 block3a_project_conv False\n",
            "59 block3a_project_bn False\n",
            "60 block3b_expand_conv False\n",
            "61 block3b_expand_bn False\n",
            "62 block3b_expand_activation False\n",
            "63 block3b_dwconv False\n",
            "64 block3b_bn False\n",
            "65 block3b_activation False\n",
            "66 block3b_se_squeeze False\n",
            "67 block3b_se_reshape False\n",
            "68 block3b_se_reduce False\n",
            "69 block3b_se_expand False\n",
            "70 block3b_se_excite False\n",
            "71 block3b_project_conv False\n",
            "72 block3b_project_bn False\n",
            "73 block3b_drop False\n",
            "74 block3b_add False\n",
            "75 block4a_expand_conv False\n",
            "76 block4a_expand_bn False\n",
            "77 block4a_expand_activation False\n",
            "78 block4a_dwconv_pad False\n",
            "79 block4a_dwconv False\n",
            "80 block4a_bn False\n",
            "81 block4a_activation False\n",
            "82 block4a_se_squeeze False\n",
            "83 block4a_se_reshape False\n",
            "84 block4a_se_reduce False\n",
            "85 block4a_se_expand False\n",
            "86 block4a_se_excite False\n",
            "87 block4a_project_conv False\n",
            "88 block4a_project_bn False\n",
            "89 block4b_expand_conv False\n",
            "90 block4b_expand_bn False\n",
            "91 block4b_expand_activation False\n",
            "92 block4b_dwconv False\n",
            "93 block4b_bn False\n",
            "94 block4b_activation False\n",
            "95 block4b_se_squeeze False\n",
            "96 block4b_se_reshape False\n",
            "97 block4b_se_reduce False\n",
            "98 block4b_se_expand False\n",
            "99 block4b_se_excite False\n",
            "100 block4b_project_conv False\n",
            "101 block4b_project_bn False\n",
            "102 block4b_drop False\n",
            "103 block4b_add False\n",
            "104 block4c_expand_conv False\n",
            "105 block4c_expand_bn False\n",
            "106 block4c_expand_activation False\n",
            "107 block4c_dwconv False\n",
            "108 block4c_bn False\n",
            "109 block4c_activation False\n",
            "110 block4c_se_squeeze False\n",
            "111 block4c_se_reshape False\n",
            "112 block4c_se_reduce False\n",
            "113 block4c_se_expand False\n",
            "114 block4c_se_excite False\n",
            "115 block4c_project_conv False\n",
            "116 block4c_project_bn False\n",
            "117 block4c_drop False\n",
            "118 block4c_add False\n",
            "119 block5a_expand_conv False\n",
            "120 block5a_expand_bn False\n",
            "121 block5a_expand_activation False\n",
            "122 block5a_dwconv False\n",
            "123 block5a_bn False\n",
            "124 block5a_activation False\n",
            "125 block5a_se_squeeze False\n",
            "126 block5a_se_reshape False\n",
            "127 block5a_se_reduce False\n",
            "128 block5a_se_expand False\n",
            "129 block5a_se_excite False\n",
            "130 block5a_project_conv False\n",
            "131 block5a_project_bn False\n",
            "132 block5b_expand_conv False\n",
            "133 block5b_expand_bn False\n",
            "134 block5b_expand_activation False\n",
            "135 block5b_dwconv False\n",
            "136 block5b_bn False\n",
            "137 block5b_activation False\n",
            "138 block5b_se_squeeze False\n",
            "139 block5b_se_reshape False\n",
            "140 block5b_se_reduce False\n",
            "141 block5b_se_expand False\n",
            "142 block5b_se_excite False\n",
            "143 block5b_project_conv False\n",
            "144 block5b_project_bn False\n",
            "145 block5b_drop False\n",
            "146 block5b_add False\n",
            "147 block5c_expand_conv False\n",
            "148 block5c_expand_bn False\n",
            "149 block5c_expand_activation False\n",
            "150 block5c_dwconv False\n",
            "151 block5c_bn False\n",
            "152 block5c_activation False\n",
            "153 block5c_se_squeeze False\n",
            "154 block5c_se_reshape False\n",
            "155 block5c_se_reduce False\n",
            "156 block5c_se_expand False\n",
            "157 block5c_se_excite False\n",
            "158 block5c_project_conv False\n",
            "159 block5c_project_bn False\n",
            "160 block5c_drop False\n",
            "161 block5c_add False\n",
            "162 block6a_expand_conv False\n",
            "163 block6a_expand_bn False\n",
            "164 block6a_expand_activation False\n",
            "165 block6a_dwconv_pad False\n",
            "166 block6a_dwconv False\n",
            "167 block6a_bn False\n",
            "168 block6a_activation False\n",
            "169 block6a_se_squeeze False\n",
            "170 block6a_se_reshape False\n",
            "171 block6a_se_reduce False\n",
            "172 block6a_se_expand False\n",
            "173 block6a_se_excite False\n",
            "174 block6a_project_conv False\n",
            "175 block6a_project_bn False\n",
            "176 block6b_expand_conv False\n",
            "177 block6b_expand_bn False\n",
            "178 block6b_expand_activation False\n",
            "179 block6b_dwconv False\n",
            "180 block6b_bn False\n",
            "181 block6b_activation False\n",
            "182 block6b_se_squeeze False\n",
            "183 block6b_se_reshape False\n",
            "184 block6b_se_reduce False\n",
            "185 block6b_se_expand False\n",
            "186 block6b_se_excite False\n",
            "187 block6b_project_conv False\n",
            "188 block6b_project_bn False\n",
            "189 block6b_drop False\n",
            "190 block6b_add False\n",
            "191 block6c_expand_conv False\n",
            "192 block6c_expand_bn False\n",
            "193 block6c_expand_activation False\n",
            "194 block6c_dwconv False\n",
            "195 block6c_bn False\n",
            "196 block6c_activation False\n",
            "197 block6c_se_squeeze False\n",
            "198 block6c_se_reshape False\n",
            "199 block6c_se_reduce False\n",
            "200 block6c_se_expand False\n",
            "201 block6c_se_excite False\n",
            "202 block6c_project_conv False\n",
            "203 block6c_project_bn False\n",
            "204 block6c_drop False\n",
            "205 block6c_add False\n",
            "206 block6d_expand_conv False\n",
            "207 block6d_expand_bn False\n",
            "208 block6d_expand_activation False\n",
            "209 block6d_dwconv False\n",
            "210 block6d_bn False\n",
            "211 block6d_activation False\n",
            "212 block6d_se_squeeze False\n",
            "213 block6d_se_reshape False\n",
            "214 block6d_se_reduce False\n",
            "215 block6d_se_expand False\n",
            "216 block6d_se_excite False\n",
            "217 block6d_project_conv False\n",
            "218 block6d_project_bn False\n",
            "219 block6d_drop False\n",
            "220 block6d_add False\n",
            "221 block7a_expand_conv False\n",
            "222 block7a_expand_bn False\n",
            "223 block7a_expand_activation False\n",
            "224 block7a_dwconv False\n",
            "225 block7a_bn False\n",
            "226 block7a_activation False\n",
            "227 block7a_se_squeeze False\n",
            "228 block7a_se_reshape False\n",
            "229 block7a_se_reduce False\n",
            "230 block7a_se_expand False\n",
            "231 block7a_se_excite False\n",
            "232 block7a_project_conv False\n",
            "233 block7a_project_bn False\n",
            "234 top_conv False\n",
            "235 top_bn False\n",
            "236 top_activation False\n"
          ]
        }
      ]
    },
    {
      "cell_type": "code",
      "source": [
        "base_model.trainable = True\n",
        "\n",
        "# Freeze all layers except for the\n",
        "for layer in base_model.layers[:-177]:\n",
        "  layer.trainable = False\n",
        "\n",
        "# Recompile the model (always recompile after any adjustments to a model)\n",
        "model_2.compile(loss=\"categorical_crossentropy\",\n",
        "              optimizer=tf.keras.optimizers.Adam(lr=0.0001), # lr is 10x lower than before for fine-tuning\n",
        "              metrics=[\"accuracy\"])"
      ],
      "metadata": {
        "id": "s6U7ADB1FcZx",
        "colab": {
          "base_uri": "https://localhost:8080/"
        },
        "outputId": "d6321b01-a2f0-4d25-9cde-72f774058211"
      },
      "execution_count": null,
      "outputs": [
        {
          "output_type": "stream",
          "name": "stderr",
          "text": [
            "/usr/local/lib/python3.7/dist-packages/keras/optimizer_v2/adam.py:105: UserWarning: The `lr` argument is deprecated, use `learning_rate` instead.\n",
            "  super(Adam, self).__init__(name, **kwargs)\n"
          ]
        }
      ]
    },
    {
      "cell_type": "code",
      "source": [
        "#from google.colab import drive\n",
        "#drive.mount('/content/drive')"
      ],
      "metadata": {
        "id": "WDdkRCS_IFcC"
      },
      "execution_count": null,
      "outputs": []
    },
    {
      "cell_type": "code",
      "source": [
        "for layer_number, layer in enumerate(base_model.layers):\n",
        "  print(layer_number, layer.name, layer.trainable)"
      ],
      "metadata": {
        "id": "ra7IJLsWFciB",
        "colab": {
          "base_uri": "https://localhost:8080/"
        },
        "outputId": "43f8cf68-0d86-463d-d07f-17bd34209457"
      },
      "execution_count": null,
      "outputs": [
        {
          "output_type": "stream",
          "name": "stdout",
          "text": [
            "0 input_1 False\n",
            "1 rescaling False\n",
            "2 normalization False\n",
            "3 stem_conv_pad False\n",
            "4 stem_conv False\n",
            "5 stem_bn False\n",
            "6 stem_activation False\n",
            "7 block1a_dwconv False\n",
            "8 block1a_bn False\n",
            "9 block1a_activation False\n",
            "10 block1a_se_squeeze False\n",
            "11 block1a_se_reshape False\n",
            "12 block1a_se_reduce False\n",
            "13 block1a_se_expand False\n",
            "14 block1a_se_excite False\n",
            "15 block1a_project_conv False\n",
            "16 block1a_project_bn False\n",
            "17 block2a_expand_conv False\n",
            "18 block2a_expand_bn False\n",
            "19 block2a_expand_activation False\n",
            "20 block2a_dwconv_pad False\n",
            "21 block2a_dwconv False\n",
            "22 block2a_bn False\n",
            "23 block2a_activation False\n",
            "24 block2a_se_squeeze False\n",
            "25 block2a_se_reshape False\n",
            "26 block2a_se_reduce False\n",
            "27 block2a_se_expand False\n",
            "28 block2a_se_excite False\n",
            "29 block2a_project_conv False\n",
            "30 block2a_project_bn False\n",
            "31 block2b_expand_conv False\n",
            "32 block2b_expand_bn False\n",
            "33 block2b_expand_activation False\n",
            "34 block2b_dwconv False\n",
            "35 block2b_bn False\n",
            "36 block2b_activation False\n",
            "37 block2b_se_squeeze False\n",
            "38 block2b_se_reshape False\n",
            "39 block2b_se_reduce False\n",
            "40 block2b_se_expand False\n",
            "41 block2b_se_excite False\n",
            "42 block2b_project_conv False\n",
            "43 block2b_project_bn False\n",
            "44 block2b_drop False\n",
            "45 block2b_add False\n",
            "46 block3a_expand_conv False\n",
            "47 block3a_expand_bn False\n",
            "48 block3a_expand_activation False\n",
            "49 block3a_dwconv_pad False\n",
            "50 block3a_dwconv False\n",
            "51 block3a_bn False\n",
            "52 block3a_activation False\n",
            "53 block3a_se_squeeze False\n",
            "54 block3a_se_reshape False\n",
            "55 block3a_se_reduce False\n",
            "56 block3a_se_expand False\n",
            "57 block3a_se_excite False\n",
            "58 block3a_project_conv False\n",
            "59 block3a_project_bn False\n",
            "60 block3b_expand_conv True\n",
            "61 block3b_expand_bn True\n",
            "62 block3b_expand_activation True\n",
            "63 block3b_dwconv True\n",
            "64 block3b_bn True\n",
            "65 block3b_activation True\n",
            "66 block3b_se_squeeze True\n",
            "67 block3b_se_reshape True\n",
            "68 block3b_se_reduce True\n",
            "69 block3b_se_expand True\n",
            "70 block3b_se_excite True\n",
            "71 block3b_project_conv True\n",
            "72 block3b_project_bn True\n",
            "73 block3b_drop True\n",
            "74 block3b_add True\n",
            "75 block4a_expand_conv True\n",
            "76 block4a_expand_bn True\n",
            "77 block4a_expand_activation True\n",
            "78 block4a_dwconv_pad True\n",
            "79 block4a_dwconv True\n",
            "80 block4a_bn True\n",
            "81 block4a_activation True\n",
            "82 block4a_se_squeeze True\n",
            "83 block4a_se_reshape True\n",
            "84 block4a_se_reduce True\n",
            "85 block4a_se_expand True\n",
            "86 block4a_se_excite True\n",
            "87 block4a_project_conv True\n",
            "88 block4a_project_bn True\n",
            "89 block4b_expand_conv True\n",
            "90 block4b_expand_bn True\n",
            "91 block4b_expand_activation True\n",
            "92 block4b_dwconv True\n",
            "93 block4b_bn True\n",
            "94 block4b_activation True\n",
            "95 block4b_se_squeeze True\n",
            "96 block4b_se_reshape True\n",
            "97 block4b_se_reduce True\n",
            "98 block4b_se_expand True\n",
            "99 block4b_se_excite True\n",
            "100 block4b_project_conv True\n",
            "101 block4b_project_bn True\n",
            "102 block4b_drop True\n",
            "103 block4b_add True\n",
            "104 block4c_expand_conv True\n",
            "105 block4c_expand_bn True\n",
            "106 block4c_expand_activation True\n",
            "107 block4c_dwconv True\n",
            "108 block4c_bn True\n",
            "109 block4c_activation True\n",
            "110 block4c_se_squeeze True\n",
            "111 block4c_se_reshape True\n",
            "112 block4c_se_reduce True\n",
            "113 block4c_se_expand True\n",
            "114 block4c_se_excite True\n",
            "115 block4c_project_conv True\n",
            "116 block4c_project_bn True\n",
            "117 block4c_drop True\n",
            "118 block4c_add True\n",
            "119 block5a_expand_conv True\n",
            "120 block5a_expand_bn True\n",
            "121 block5a_expand_activation True\n",
            "122 block5a_dwconv True\n",
            "123 block5a_bn True\n",
            "124 block5a_activation True\n",
            "125 block5a_se_squeeze True\n",
            "126 block5a_se_reshape True\n",
            "127 block5a_se_reduce True\n",
            "128 block5a_se_expand True\n",
            "129 block5a_se_excite True\n",
            "130 block5a_project_conv True\n",
            "131 block5a_project_bn True\n",
            "132 block5b_expand_conv True\n",
            "133 block5b_expand_bn True\n",
            "134 block5b_expand_activation True\n",
            "135 block5b_dwconv True\n",
            "136 block5b_bn True\n",
            "137 block5b_activation True\n",
            "138 block5b_se_squeeze True\n",
            "139 block5b_se_reshape True\n",
            "140 block5b_se_reduce True\n",
            "141 block5b_se_expand True\n",
            "142 block5b_se_excite True\n",
            "143 block5b_project_conv True\n",
            "144 block5b_project_bn True\n",
            "145 block5b_drop True\n",
            "146 block5b_add True\n",
            "147 block5c_expand_conv True\n",
            "148 block5c_expand_bn True\n",
            "149 block5c_expand_activation True\n",
            "150 block5c_dwconv True\n",
            "151 block5c_bn True\n",
            "152 block5c_activation True\n",
            "153 block5c_se_squeeze True\n",
            "154 block5c_se_reshape True\n",
            "155 block5c_se_reduce True\n",
            "156 block5c_se_expand True\n",
            "157 block5c_se_excite True\n",
            "158 block5c_project_conv True\n",
            "159 block5c_project_bn True\n",
            "160 block5c_drop True\n",
            "161 block5c_add True\n",
            "162 block6a_expand_conv True\n",
            "163 block6a_expand_bn True\n",
            "164 block6a_expand_activation True\n",
            "165 block6a_dwconv_pad True\n",
            "166 block6a_dwconv True\n",
            "167 block6a_bn True\n",
            "168 block6a_activation True\n",
            "169 block6a_se_squeeze True\n",
            "170 block6a_se_reshape True\n",
            "171 block6a_se_reduce True\n",
            "172 block6a_se_expand True\n",
            "173 block6a_se_excite True\n",
            "174 block6a_project_conv True\n",
            "175 block6a_project_bn True\n",
            "176 block6b_expand_conv True\n",
            "177 block6b_expand_bn True\n",
            "178 block6b_expand_activation True\n",
            "179 block6b_dwconv True\n",
            "180 block6b_bn True\n",
            "181 block6b_activation True\n",
            "182 block6b_se_squeeze True\n",
            "183 block6b_se_reshape True\n",
            "184 block6b_se_reduce True\n",
            "185 block6b_se_expand True\n",
            "186 block6b_se_excite True\n",
            "187 block6b_project_conv True\n",
            "188 block6b_project_bn True\n",
            "189 block6b_drop True\n",
            "190 block6b_add True\n",
            "191 block6c_expand_conv True\n",
            "192 block6c_expand_bn True\n",
            "193 block6c_expand_activation True\n",
            "194 block6c_dwconv True\n",
            "195 block6c_bn True\n",
            "196 block6c_activation True\n",
            "197 block6c_se_squeeze True\n",
            "198 block6c_se_reshape True\n",
            "199 block6c_se_reduce True\n",
            "200 block6c_se_expand True\n",
            "201 block6c_se_excite True\n",
            "202 block6c_project_conv True\n",
            "203 block6c_project_bn True\n",
            "204 block6c_drop True\n",
            "205 block6c_add True\n",
            "206 block6d_expand_conv True\n",
            "207 block6d_expand_bn True\n",
            "208 block6d_expand_activation True\n",
            "209 block6d_dwconv True\n",
            "210 block6d_bn True\n",
            "211 block6d_activation True\n",
            "212 block6d_se_squeeze True\n",
            "213 block6d_se_reshape True\n",
            "214 block6d_se_reduce True\n",
            "215 block6d_se_expand True\n",
            "216 block6d_se_excite True\n",
            "217 block6d_project_conv True\n",
            "218 block6d_project_bn True\n",
            "219 block6d_drop True\n",
            "220 block6d_add True\n",
            "221 block7a_expand_conv True\n",
            "222 block7a_expand_bn True\n",
            "223 block7a_expand_activation True\n",
            "224 block7a_dwconv True\n",
            "225 block7a_bn True\n",
            "226 block7a_activation True\n",
            "227 block7a_se_squeeze True\n",
            "228 block7a_se_reshape True\n",
            "229 block7a_se_reduce True\n",
            "230 block7a_se_expand True\n",
            "231 block7a_se_excite True\n",
            "232 block7a_project_conv True\n",
            "233 block7a_project_bn True\n",
            "234 top_conv True\n",
            "235 top_bn True\n",
            "236 top_activation True\n"
          ]
        }
      ]
    },
    {
      "cell_type": "code",
      "source": [
        "print(len(model_2.trainable_variables))"
      ],
      "metadata": {
        "id": "lZxO3XRKFclp",
        "colab": {
          "base_uri": "https://localhost:8080/"
        },
        "outputId": "8c746ad5-be54-4a16-d5f9-e79afb37658a"
      },
      "execution_count": null,
      "outputs": [
        {
          "output_type": "stream",
          "name": "stdout",
          "text": [
            "161\n"
          ]
        }
      ]
    },
    {
      "cell_type": "code",
      "source": [
        "# Fine tune for another 5 epochs\n",
        "fine_tune_epochs = initial_epochs + 10\n",
        "\n",
        "# Refit the model (same as model_2 except with more trainable layers)\n",
        "history_fine_tuning = model_2.fit(train_data,\n",
        "                                               epochs=fine_tune_epochs,\n",
        "                                               validation_data=val_data,\n",
        "                                               initial_epoch=Fine_tuning_entire_dataset.epoch[-1], # start from previous last epoch\n",
        "                                               validation_steps=int(0.25 * len(val_data))\n",
        "                                               ) #"
      ],
      "metadata": {
        "id": "HTepTltWFcox",
        "colab": {
          "base_uri": "https://localhost:8080/"
        },
        "outputId": "4bf37fcb-35a4-416d-8209-a9c6546085a7"
      },
      "execution_count": null,
      "outputs": [
        {
          "output_type": "stream",
          "name": "stdout",
          "text": [
            "Epoch 30/40\n",
            "481/481 [==============================] - 327s 665ms/step - loss: 0.2177 - accuracy: 0.9350 - val_loss: 0.1567 - val_accuracy: 0.9667\n",
            "Epoch 31/40\n",
            "481/481 [==============================] - 304s 633ms/step - loss: 0.0901 - accuracy: 0.9698 - val_loss: 0.1452 - val_accuracy: 0.9729\n",
            "Epoch 32/40\n",
            "481/481 [==============================] - 308s 639ms/step - loss: 0.0596 - accuracy: 0.9789 - val_loss: 0.1916 - val_accuracy: 0.9521\n",
            "Epoch 33/40\n",
            "481/481 [==============================] - 303s 629ms/step - loss: 0.0382 - accuracy: 0.9872 - val_loss: 0.1483 - val_accuracy: 0.9667\n",
            "Epoch 34/40\n",
            "481/481 [==============================] - 302s 628ms/step - loss: 0.0286 - accuracy: 0.9907 - val_loss: 0.1095 - val_accuracy: 0.9625\n",
            "Epoch 35/40\n",
            "481/481 [==============================] - 287s 597ms/step - loss: 0.0227 - accuracy: 0.9920 - val_loss: 0.2202 - val_accuracy: 0.9500\n",
            "Epoch 36/40\n",
            "481/481 [==============================] - 297s 618ms/step - loss: 0.0196 - accuracy: 0.9934 - val_loss: 0.1278 - val_accuracy: 0.9708\n",
            "Epoch 37/40\n",
            "481/481 [==============================] - 297s 617ms/step - loss: 0.0173 - accuracy: 0.9939 - val_loss: 0.1454 - val_accuracy: 0.9750\n",
            "Epoch 38/40\n",
            "481/481 [==============================] - 294s 610ms/step - loss: 0.0228 - accuracy: 0.9934 - val_loss: 0.1643 - val_accuracy: 0.9646\n",
            "Epoch 39/40\n",
            "481/481 [==============================] - 306s 636ms/step - loss: 0.0088 - accuracy: 0.9972 - val_loss: 0.1516 - val_accuracy: 0.9833\n",
            "Epoch 40/40\n",
            "481/481 [==============================] - 305s 634ms/step - loss: 0.0145 - accuracy: 0.9956 - val_loss: 0.1459 - val_accuracy: 0.9708\n"
          ]
        }
      ]
    },
    {
      "cell_type": "code",
      "source": [
        "results_fine_tune_full_data = model_2.evaluate(test_data)\n",
        "results_fine_tune_full_data"
      ],
      "metadata": {
        "id": "0a9WDlWLFcro",
        "colab": {
          "base_uri": "https://localhost:8080/"
        },
        "outputId": "cbd27e3a-6224-4733-d51e-ffb5896c7fa4"
      },
      "execution_count": null,
      "outputs": [
        {
          "output_type": "stream",
          "name": "stdout",
          "text": [
            "61/61 [==============================] - 13s 219ms/step - loss: 0.0564 - accuracy: 0.9850\n"
          ]
        },
        {
          "output_type": "execute_result",
          "data": {
            "text/plain": [
              "[0.05641857534646988, 0.9849507212638855]"
            ]
          },
          "metadata": {},
          "execution_count": 38
        }
      ]
    },
    {
      "cell_type": "code",
      "source": [
        "y_pred_2 = model_2.predict(test_data)\n",
        "y_pred_2 = np.argmax(y_pred_2,axis=1)"
      ],
      "metadata": {
        "id": "Eu2NZK6kw9KT"
      },
      "execution_count": null,
      "outputs": []
    },
    {
      "cell_type": "code",
      "source": [
        "y_pred_2"
      ],
      "metadata": {
        "colab": {
          "base_uri": "https://localhost:8080/"
        },
        "id": "yl--hdfuxb7A",
        "outputId": "bb25d070-bac5-4a56-c6c6-c178dcaabb8d"
      },
      "execution_count": null,
      "outputs": [
        {
          "output_type": "execute_result",
          "data": {
            "text/plain": [
              "array([11,  0,  0, ..., 11, 11, 11])"
            ]
          },
          "metadata": {},
          "execution_count": 40
        }
      ]
    },
    {
      "cell_type": "code",
      "source": [
        "def compare_historys(original_history, new_history, initial_epochs=20):\n",
        "    \"\"\"\n",
        "    Compares two TensorFlow model History objects.\n",
        "\n",
        "    Args:\n",
        "      original_history: History object from original model (before new_history)\n",
        "      new_history: History object from continued model training (after original_history)\n",
        "      initial_epochs: Number of epochs in original_history (new_history plot starts from here)\n",
        "    \"\"\"\n",
        "\n",
        "    # Get original history measurements\n",
        "    acc = original_history.history[\"accuracy\"]\n",
        "    loss = original_history.history[\"loss\"]\n",
        "\n",
        "    val_acc = original_history.history[\"val_accuracy\"]\n",
        "    val_loss = original_history.history[\"val_loss\"]\n",
        "\n",
        "    # Combine original history with new history\n",
        "    total_acc = acc + new_history.history[\"accuracy\"]\n",
        "    total_loss = loss + new_history.history[\"loss\"]\n",
        "\n",
        "    total_val_acc = val_acc + new_history.history[\"val_accuracy\"]\n",
        "    total_val_loss = val_loss + new_history.history[\"val_loss\"]\n",
        "\n",
        "    # Make plots\n",
        "    plt.figure(figsize=(8, 8))\n",
        "    plt.subplot(2, 1, 1)\n",
        "    plt.plot(total_acc, label='Training Accuracy')\n",
        "    plt.plot(total_val_acc, label='Validation Accuracy')\n",
        "    plt.plot([initial_epochs-1, initial_epochs-1],\n",
        "              plt.ylim(), label='Start Fine Tuning') # reshift plot around epochs\n",
        "    plt.legend(loc='lower right')\n",
        "    plt.title('Training and Validation Accuracy')\n",
        "\n",
        "    plt.subplot(2, 1, 2)\n",
        "    plt.plot(total_loss, label='Training Loss')\n",
        "    plt.plot(total_val_loss, label='Validation Loss')\n",
        "    plt.plot([initial_epochs-1, initial_epochs-1],\n",
        "              plt.ylim(), label='Start Fine Tuning') # reshift plot around epochs\n",
        "    plt.legend(loc='upper right')\n",
        "    plt.title('Training and Validation Loss')\n",
        "    plt.xlabel('epoch')\n",
        "    plt.show()"
      ],
      "metadata": {
        "id": "sm_h5U1_H827"
      },
      "execution_count": null,
      "outputs": []
    },
    {
      "cell_type": "code",
      "source": [
        "compare_historys(original_history=Fine_tuning_entire_dataset,\n",
        "                 new_history=history_fine_tuning,\n",
        "                 initial_epochs=30)"
      ],
      "metadata": {
        "id": "swOSy9K8Fct9",
        "colab": {
          "base_uri": "https://localhost:8080/",
          "height": 513
        },
        "outputId": "68c49fb7-75b1-4c0f-fae5-ed3e08e84b9d"
      },
      "execution_count": null,
      "outputs": [
        {
          "output_type": "display_data",
          "data": {
            "text/plain": [
              "<Figure size 576x576 with 2 Axes>"
            ],
            "image/png": "[encoded data removed]"
          },
          "metadata": {
            "needs_background": "light"
          }
        }
      ]
    },
    {
      "cell_type": "code",
      "source": [
        "# Get accuracy score by comparing predicted classes to ground truth labels\n",
        "from sklearn.metrics import accuracy_score\n",
        "sklearn_accuracy = accuracy_score(y_labels, y_pred_2)\n",
        "sklearn_accuracy\n"
      ],
      "metadata": {
        "colab": {
          "base_uri": "https://localhost:8080/"
        },
        "id": "HhxEjeeQr2Rt",
        "outputId": "dcdfd9d1-d6e9-43e2-ddd6-5fda0578fa34"
      },
      "execution_count": null,
      "outputs": [
        {
          "output_type": "execute_result",
          "data": {
            "text/plain": [
              "0.9849507005708354"
            ]
          },
          "metadata": {},
          "execution_count": 43
        }
      ]
    },
    {
      "cell_type": "code",
      "source": [
        "from sklearn.metrics import classification_report, confusion_matrix\n",
        "print(classification_report(y_labels,y_pred_2))"
      ],
      "metadata": {
        "colab": {
          "base_uri": "https://localhost:8080/"
        },
        "id": "OgAKfLlmsAac",
        "outputId": "88849394-1d58-46eb-bf59-74cdb1c58e0c"
      },
      "execution_count": null,
      "outputs": [
        {
          "output_type": "stream",
          "name": "stdout",
          "text": [
            "              precision    recall  f1-score   support\n",
            "\n",
            "           0       0.97      0.96      0.96       200\n",
            "           1       0.99      1.00      1.00       130\n",
            "           2       1.00      1.00      1.00       131\n",
            "           3       0.99      1.00      0.99       209\n",
            "           4       1.00      1.00      1.00       200\n",
            "           5       0.92      0.96      0.94        24\n",
            "           6       1.00      1.00      1.00       200\n",
            "           7       1.00      0.98      0.99       185\n",
            "           8       0.99      0.99      0.99       200\n",
            "           9       0.97      0.97      0.97       200\n",
            "          10       1.00      0.96      0.98        48\n",
            "          11       0.96      0.96      0.96       200\n",
            "\n",
            "    accuracy                           0.98      1927\n",
            "   macro avg       0.98      0.98      0.98      1927\n",
            "weighted avg       0.98      0.98      0.98      1927\n",
            "\n"
          ]
        }
      ]
    },
    {
      "cell_type": "code",
      "source": [
        "classes=[i for i in range(12)]\n",
        "con_mat_df = pd.DataFrame(confusion_matrix(y_labels,y_pred_2),\n",
        "                     index = classes,\n",
        "                     columns = classes)"
      ],
      "metadata": {
        "id": "UauGMwNhsAdk"
      },
      "execution_count": null,
      "outputs": []
    },
    {
      "cell_type": "code",
      "source": [
        "import seaborn as sns\n",
        "figure = plt.figure(figsize=(10, 8))\n",
        "sns.heatmap(con_mat_df, annot=True,cmap=plt.cm.hot,fmt='d')\n",
        "plt.tight_layout()\n",
        "plt.ylabel('Actual')\n",
        "plt.xlabel('Predicted')\n",
        "plt.show()"
      ],
      "metadata": {
        "colab": {
          "base_uri": "https://localhost:8080/",
          "height": 599
        },
        "id": "mgrsYbE2sAga",
        "outputId": "b1ec7c93-d2ef-4344-d66c-15bb045c7eb3"
      },
      "execution_count": null,
      "outputs": [
        {
          "output_type": "display_data",
          "data": {
            "text/plain": [
              "<Figure size 720x576 with 2 Axes>"
            ],
            "image/png": "[encoded data removed]"
          },
          "metadata": {
            "needs_background": "light"
          }
        }
      ]
    }
  ]
}